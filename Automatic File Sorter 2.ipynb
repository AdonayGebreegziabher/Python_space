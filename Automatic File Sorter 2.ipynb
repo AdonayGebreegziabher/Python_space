{
 "cells": [
  {
   "cell_type": "markdown",
   "id": "3e847fe0-3c25-49d7-b104-94ca72587d32",
   "metadata": {},
   "source": [
    "# Automatic File Sorter"
   ]
  },
  {
   "cell_type": "code",
   "execution_count": 2,
   "id": "24bf007e-0f35-4ed4-a68a-ec8df7821b1f",
   "metadata": {},
   "outputs": [
    {
     "name": "stdout",
     "output_type": "stream",
     "text": [
      "['Cover Letter.pdf', 'Helen Berhe - Semay [Remastered].mp3', 'is there a pc screen recorder for windows 11 - Google Search - Google Chrome 2023-12-19 23-47-26.mp4', 'March 25.docx', 'photo_2023-02-03_12-45-02.jpg', 'road-sign-6350369_1280.jpg', 'sales-growth-increase-sales-graphs-charts-business_220873-13434.avif', 'Screenshot 2024-01-03 145841.png', 'Spending.xlsx']\n"
     ]
    }
   ],
   "source": [
    "import os\n",
    "import shutil\n",
    "\n",
    "path = r\"C:/Users/adogh/Documents/Learning/Data Analytics/Python/sample file/\"\n",
    "file_names = os.listdir(path)\n",
    "\n",
    "print(file_names)"
   ]
  },
  {
   "cell_type": "code",
   "execution_count": 3,
   "id": "7d113727-81fd-4304-a153-ecb042794e52",
   "metadata": {},
   "outputs": [
    {
     "name": "stdout",
     "output_type": "stream",
     "text": [
      "Creating folder: C:/Users/adogh/Documents/Learning/Data Analytics/Python/sample file/audio files\n",
      "Creating folder: C:/Users/adogh/Documents/Learning/Data Analytics/Python/sample file/excel files\n",
      "Creating folder: C:/Users/adogh/Documents/Learning/Data Analytics/Python/sample file/image files\n",
      "Creating folder: C:/Users/adogh/Documents/Learning/Data Analytics/Python/sample file/pdf files\n",
      "Creating folder: C:/Users/adogh/Documents/Learning/Data Analytics/Python/sample file/video files\n",
      "Creating folder: C:/Users/adogh/Documents/Learning/Data Analytics/Python/sample file/word files\n"
     ]
    }
   ],
   "source": [
    "folder_names = {\n",
    "    'audio files': ['.mp3'],\n",
    "    'excel files': ['.xlsx'],\n",
    "    'image files': ['.jpg', '.png'],\n",
    "    'pdf files': ['.pdf'],\n",
    "    'video files': ['.mp4', '.avif'],\n",
    "    'word files': ['.docx']\n",
    "}\n",
    "\n",
    "# Create directories if they do not exist\n",
    "for folder in folder_names:\n",
    "    folder_path = os.path.join(path, folder)\n",
    "    if not os.path.exists(folder_path):\n",
    "        print(f\"Creating folder: {folder_path}\")\n",
    "        os.makedirs(folder_path)"
   ]
  },
  {
   "cell_type": "code",
   "execution_count": 4,
   "id": "da03a5fc-73d1-4941-b2a4-04349e2823a2",
   "metadata": {},
   "outputs": [
    {
     "name": "stdout",
     "output_type": "stream",
     "text": [
      "Moved 'Cover Letter.pdf' to 'C:/Users/adogh/Documents/Learning/Data Analytics/Python/sample file/pdf files'\n",
      "Moved 'Helen Berhe - Semay [Remastered].mp3' to 'C:/Users/adogh/Documents/Learning/Data Analytics/Python/sample file/audio files'\n",
      "Moved 'is there a pc screen recorder for windows 11 - Google Search - Google Chrome 2023-12-19 23-47-26.mp4' to 'C:/Users/adogh/Documents/Learning/Data Analytics/Python/sample file/video files'\n",
      "Moved 'March 25.docx' to 'C:/Users/adogh/Documents/Learning/Data Analytics/Python/sample file/word files'\n",
      "Moved 'photo_2023-02-03_12-45-02.jpg' to 'C:/Users/adogh/Documents/Learning/Data Analytics/Python/sample file/image files'\n",
      "Moved 'road-sign-6350369_1280.jpg' to 'C:/Users/adogh/Documents/Learning/Data Analytics/Python/sample file/image files'\n",
      "Moved 'sales-growth-increase-sales-graphs-charts-business_220873-13434.avif' to 'C:/Users/adogh/Documents/Learning/Data Analytics/Python/sample file/video files'\n",
      "Moved 'Screenshot 2024-01-03 145841.png' to 'C:/Users/adogh/Documents/Learning/Data Analytics/Python/sample file/image files'\n",
      "Moved 'Spending.xlsx' to 'C:/Users/adogh/Documents/Learning/Data Analytics/Python/sample file/excel files'\n"
     ]
    }
   ],
   "source": [
    "# Move files to respective directories\n",
    "for file in file_names:\n",
    "    file_path = os.path.join(path, file)\n",
    "    for folder, extensions in folder_names.items():\n",
    "        if any(file.endswith(ext) for ext in extensions):\n",
    "            dest_folder = os.path.join(path, folder)\n",
    "            dest_path = os.path.join(dest_folder, file)\n",
    "            if not os.path.exists(dest_path):\n",
    "                shutil.move(file_path, dest_path)\n",
    "                print(f\"Moved '{file}' to '{dest_folder}'\")\n",
    "            break"
   ]
  }
 ],
 "metadata": {
  "kernelspec": {
   "display_name": "Python 3 (ipykernel)",
   "language": "python",
   "name": "python3"
  },
  "language_info": {
   "codemirror_mode": {
    "name": "ipython",
    "version": 3
   },
   "file_extension": ".py",
   "mimetype": "text/x-python",
   "name": "python",
   "nbconvert_exporter": "python",
   "pygments_lexer": "ipython3",
   "version": "3.11.7"
  }
 },
 "nbformat": 4,
 "nbformat_minor": 5
}
