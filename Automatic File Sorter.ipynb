{
 "cells": [
  {
   "cell_type": "markdown",
   "id": "a40c0970-60c3-4b82-970d-0b60d347da0e",
   "metadata": {},
   "source": [
    "# Automatic File Sorter in File Explorer"
   ]
  },
  {
   "cell_type": "code",
   "execution_count": 31,
   "id": "7c749029-0c98-463a-a33e-aac7d0ee657c",
   "metadata": {},
   "outputs": [],
   "source": [
    "import os, shutil"
   ]
  },
  {
   "cell_type": "code",
   "execution_count": 32,
   "id": "95349cdf-d8d8-495c-b49a-a7ba1306eb41",
   "metadata": {},
   "outputs": [],
   "source": [
    "path = r\"C:/Users/adogh/Documents/Learning/Data Analytics/Python/sample file/\""
   ]
  },
  {
   "cell_type": "code",
   "execution_count": 33,
   "id": "f18f2ee1-806a-4efd-b7a0-e080eae846d3",
   "metadata": {},
   "outputs": [
    {
     "name": "stdout",
     "output_type": "stream",
     "text": [
      "['Cover Letter.pdf', 'Helen Berhe - Semay [Remastered].mp3', 'is there a pc screen recorder for windows 11 - Google Search - Google Chrome 2023-12-19 23-47-26.mp4', 'March 25.docx', 'photo_2023-02-03_12-45-02.jpg', 'road-sign-6350369_1280.jpg', 'sales-growth-increase-sales-graphs-charts-business_220873-13434.avif', 'Screenshot 2024-01-03 145841.png', 'Spending.xlsx']\n"
     ]
    }
   ],
   "source": [
    "file_name = os.listdir(path)\n",
    "\n",
    "print(file_name)"
   ]
  },
  {
   "cell_type": "code",
   "execution_count": 37,
   "id": "854bc755-b006-48b8-b0f5-74fc3543bfd6",
   "metadata": {},
   "outputs": [
    {
     "name": "stdout",
     "output_type": "stream",
     "text": [
      "C:/Users/adogh/Documents/Learning/Data Analytics/Python/sample file/audio files\n",
      "C:/Users/adogh/Documents/Learning/Data Analytics/Python/sample file/excel files\n",
      "C:/Users/adogh/Documents/Learning/Data Analytics/Python/sample file/image files\n",
      "C:/Users/adogh/Documents/Learning/Data Analytics/Python/sample file/pdf files\n",
      "C:/Users/adogh/Documents/Learning/Data Analytics/Python/sample file/video files\n",
      "C:/Users/adogh/Documents/Learning/Data Analytics/Python/sample file/word files\n"
     ]
    }
   ],
   "source": [
    "folder_names = ['audio files', 'excel files', 'image files', 'pdf files', 'video files', 'word files']\n",
    "\n",
    "for loop in range(0,6):\n",
    "    if not os.path.exists(path + folder_names[loop]):\n",
    "       print((path + folder_names[loop]))\n",
    "       os.makedirs((path + folder_names[loop]))\n",
    "\n",
    "for file in file_name:\n",
    "    if \".mp3\" in file and not os.path.exists(path + \"audio files/\" + file):\n",
    "        shutil.move(path + file, path + \"audio files/\" + file)\n",
    "    elif \".xlsx\" in file and not os.path.exists(path + \"excel files/\" + file):\n",
    "        shutil.move(path + file, path + \"excel files/\" + file)\n",
    "    elif \".jpg\" in file and not os.path.exists(path + \"image files/\" + file):\n",
    "        shutil.move(path + file, path + \"image files/\" + file)\n",
    "    elif \".png\" in file and not os.path.exists(path + \"image files/\" + file):\n",
    "        shutil.move(path + file, path + \"image files/\" + file)\n",
    "    elif \".pdf\" in file and not os.path.exists(path + \"pdf files/\" + file):\n",
    "        shutil.move(path + file, path + \"pdf files/\" + file)\n",
    "    elif \".mp4\" in file and not os.path.exists(path + \"video files/\" + file):\n",
    "        shutil.move(path + file, path + \"video files/\" + file)\n",
    "    elif \".avif\" in file and not os.path.exists(path + \"video files/\" + file):\n",
    "        shutil.move(path + file, path + \"video files/\" + file)\n",
    "    elif \".docx\" in file and not os.path.exists(path + \"word files/\" + file):\n",
    "        shutil.move(path + file, path + \"word files/\" + file)"
   ]
  }
 ],
 "metadata": {
  "kernelspec": {
   "display_name": "Python 3 (ipykernel)",
   "language": "python",
   "name": "python3"
  },
  "language_info": {
   "codemirror_mode": {
    "name": "ipython",
    "version": 3
   },
   "file_extension": ".py",
   "mimetype": "text/x-python",
   "name": "python",
   "nbconvert_exporter": "python",
   "pygments_lexer": "ipython3",
   "version": "3.11.7"
  }
 },
 "nbformat": 4,
 "nbformat_minor": 5
}
