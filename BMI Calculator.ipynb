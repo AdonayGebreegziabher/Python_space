{
 "cells": [
  {
   "cell_type": "markdown",
   "id": "917e5b9e-4e7f-4c02-b036-5bc2b62acf7d",
   "metadata": {},
   "source": [
    "# BMI Calculator\n"
   ]
  },
  {
   "cell_type": "code",
   "execution_count": 15,
   "id": "f6867d17-a25a-4c11-8cc3-d5275f4a364b",
   "metadata": {},
   "outputs": [
    {
     "name": "stdin",
     "output_type": "stream",
     "text": [
      "Enter your name:  Adonay\n",
      "Enter your weight in kgs:  53\n",
      "Enter your height in cms:  168\n"
     ]
    },
    {
     "name": "stdout",
     "output_type": "stream",
     "text": [
      "18.778344671201815\n",
      "Adonay, you are normalweight.\n"
     ]
    }
   ],
   "source": [
    "name = input(\"Enter your name: \")\n",
    "\n",
    "weight = int(input(\"Enter your weight in kgs: \"))\n",
    "\n",
    "height = int(input(\"Enter your height in cms: \"))\n",
    "\n",
    "BMI = (weight / (height * height) * 10000)\n",
    "\n",
    "print(BMI)\n",
    "\n",
    "if BMI > 0:\n",
    "    if(BMI < 18.5):\n",
    "        print(name + \", you are underweight.\")\n",
    "    elif(BMI <= 24.9):\n",
    "        print(name + \", you are normalweight.\")\n",
    "    elif(BMI <= 29.9):\n",
    "        print(name + \", you are overweight.\")\n",
    "    elif(BMI <= 34.9):\n",
    "        print(name + \", you are obese.\")\n",
    "    elif(BMI <= 39.9):\n",
    "        print(name + \", you are severely obese.\")\n",
    "    else:\n",
    "        print(name + \", you are severely morbidly obese.\")\n",
    "else:\n",
    "    print(\"Enter valid input\")"
   ]
  }
 ],
 "metadata": {
  "kernelspec": {
   "display_name": "Python 3 (ipykernel)",
   "language": "python",
   "name": "python3"
  },
  "language_info": {
   "codemirror_mode": {
    "name": "ipython",
    "version": 3
   },
   "file_extension": ".py",
   "mimetype": "text/x-python",
   "name": "python",
   "nbconvert_exporter": "python",
   "pygments_lexer": "ipython3",
   "version": "3.11.7"
  }
 },
 "nbformat": 4,
 "nbformat_minor": 5
}
