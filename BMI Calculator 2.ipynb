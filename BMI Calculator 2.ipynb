{
 "cells": [
  {
   "cell_type": "markdown",
   "id": "af4fcac3-d5c4-499a-acab-5236286d7b35",
   "metadata": {},
   "source": [
    "# BMI Calculator 2"
   ]
  },
  {
   "cell_type": "code",
   "execution_count": 2,
   "id": "9f8186d4-4452-47d0-a722-4871aef5b005",
   "metadata": {},
   "outputs": [
    {
     "name": "stdin",
     "output_type": "stream",
     "text": [
      "Enter your name:  Adonay\n",
      "Enter your weight in kgs:  53\n",
      "Enter your height in cms:  168\n"
     ]
    },
    {
     "name": "stdout",
     "output_type": "stream",
     "text": [
      "BMI: 18.78\n",
      "Adonay, you are normal weight.\n"
     ]
    }
   ],
   "source": [
    "name = input(\"Enter your name: \")\n",
    "\n",
    "try:\n",
    "    weight = float(input(\"Enter your weight in kgs: \"))\n",
    "    height = float(input(\"Enter your height in cms: \"))\n",
    "\n",
    "    if weight <= 0 or height <= 0:\n",
    "        print(\"Weight and height must be positive values.\")\n",
    "    else:\n",
    "        BMI = (weight / (height * height) * 10000)\n",
    "        print(f\"BMI: {BMI:.2f}\")\n",
    "\n",
    "        if BMI < 18.5:\n",
    "            print(name + \", you are underweight.\")\n",
    "        elif BMI <= 24.9:\n",
    "            print(name + \", you are normal weight.\")\n",
    "        elif BMI <= 29.9:\n",
    "            print(name + \", you are overweight.\")\n",
    "        elif BMI <= 34.9:\n",
    "            print(name + \", you are obese.\")\n",
    "        elif BMI <= 39.9:\n",
    "            print(name + \", you are severely obese.\")\n",
    "        else:\n",
    "            print(name + \", you are severely morbidly obese.\")\n",
    "\n",
    "except ValueError:\n",
    "    print(\"Please enter valid numerical values for weight and height.\")\n"
   ]
  }
 ],
 "metadata": {
  "kernelspec": {
   "display_name": "Python 3 (ipykernel)",
   "language": "python",
   "name": "python3"
  },
  "language_info": {
   "codemirror_mode": {
    "name": "ipython",
    "version": 3
   },
   "file_extension": ".py",
   "mimetype": "text/x-python",
   "name": "python",
   "nbconvert_exporter": "python",
   "pygments_lexer": "ipython3",
   "version": "3.11.7"
  }
 },
 "nbformat": 4,
 "nbformat_minor": 5
}
