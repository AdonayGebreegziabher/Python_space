{
 "cells": [
  {
   "cell_type": "code",
   "execution_count": 9,
   "id": "52455750-a2b9-4d6e-9b20-69a943be7db9",
   "metadata": {},
   "outputs": [
    {
     "name": "stdout",
     "output_type": "stream",
     "text": [
      "Collecting textblobNote: you may need to restart the kernel to use updated packages.\n",
      "\n",
      "  Downloading textblob-0.18.0.post0-py3-none-any.whl.metadata (4.5 kB)\n",
      "Requirement already satisfied: nltk>=3.8 in c:\\users\\adogh\\anaconda3\\lib\\site-packages (from textblob) (3.8.1)\n",
      "Requirement already satisfied: click in c:\\users\\adogh\\anaconda3\\lib\\site-packages (from nltk>=3.8->textblob) (8.1.7)\n",
      "Requirement already satisfied: joblib in c:\\users\\adogh\\anaconda3\\lib\\site-packages (from nltk>=3.8->textblob) (1.2.0)\n",
      "Requirement already satisfied: regex>=2021.8.3 in c:\\users\\adogh\\anaconda3\\lib\\site-packages (from nltk>=3.8->textblob) (2023.10.3)\n",
      "Requirement already satisfied: tqdm in c:\\users\\adogh\\anaconda3\\lib\\site-packages (from nltk>=3.8->textblob) (4.65.0)\n",
      "Requirement already satisfied: colorama in c:\\users\\adogh\\anaconda3\\lib\\site-packages (from click->nltk>=3.8->textblob) (0.4.6)\n",
      "Downloading textblob-0.18.0.post0-py3-none-any.whl (626 kB)\n",
      "   ---------------------------------------- 0.0/626.3 kB ? eta -:--:--\n",
      "    --------------------------------------- 10.2/626.3 kB ? eta -:--:--\n",
      "    --------------------------------------- 10.2/626.3 kB ? eta -:--:--\n",
      "   - ------------------------------------- 30.7/626.3 kB 217.9 kB/s eta 0:00:03\n",
      "   - ------------------------------------- 30.7/626.3 kB 217.9 kB/s eta 0:00:03\n",
      "   - ------------------------------------- 30.7/626.3 kB 217.9 kB/s eta 0:00:03\n",
      "   -- ------------------------------------ 41.0/626.3 kB 122.9 kB/s eta 0:00:05\n",
      "   -- ------------------------------------ 41.0/626.3 kB 122.9 kB/s eta 0:00:05\n",
      "   -- ------------------------------------ 41.0/626.3 kB 122.9 kB/s eta 0:00:05\n",
      "   -- ------------------------------------ 41.0/626.3 kB 122.9 kB/s eta 0:00:05\n",
      "   -- ------------------------------------ 41.0/626.3 kB 122.9 kB/s eta 0:00:05\n",
      "   -- ------------------------------------ 41.0/626.3 kB 122.9 kB/s eta 0:00:05\n",
      "   ------ ------------------------------- 112.6/626.3 kB 187.2 kB/s eta 0:00:03\n",
      "   ------ ------------------------------- 112.6/626.3 kB 187.2 kB/s eta 0:00:03\n",
      "   -------- ----------------------------- 143.4/626.3 kB 213.0 kB/s eta 0:00:03\n",
      "   --------- ---------------------------- 163.8/626.3 kB 223.3 kB/s eta 0:00:03\n",
      "   ---------- --------------------------- 174.1/626.3 kB 227.9 kB/s eta 0:00:02\n",
      "   ----------- -------------------------- 194.6/626.3 kB 240.6 kB/s eta 0:00:02\n",
      "   ------------ ------------------------- 204.8/626.3 kB 235.0 kB/s eta 0:00:02\n",
      "   ------------- ------------------------ 225.3/626.3 kB 250.0 kB/s eta 0:00:02\n",
      "   --------------- ---------------------- 256.0/626.3 kB 266.6 kB/s eta 0:00:02\n",
      "   ---------------- --------------------- 276.5/626.3 kB 279.4 kB/s eta 0:00:02\n",
      "   ---------------- --------------------- 276.5/626.3 kB 279.4 kB/s eta 0:00:02\n",
      "   ---------------- --------------------- 276.5/626.3 kB 279.4 kB/s eta 0:00:02\n",
      "   ---------------- --------------------- 276.5/626.3 kB 279.4 kB/s eta 0:00:02\n",
      "   ---------------- --------------------- 276.5/626.3 kB 279.4 kB/s eta 0:00:02\n",
      "   ------------------- ------------------ 327.7/626.3 kB 267.2 kB/s eta 0:00:02\n",
      "   ------------------- ------------------ 327.7/626.3 kB 267.2 kB/s eta 0:00:02\n",
      "   ---------------------- --------------- 368.6/626.3 kB 279.8 kB/s eta 0:00:01\n",
      "   ---------------------- --------------- 368.6/626.3 kB 279.8 kB/s eta 0:00:01\n",
      "   ---------------------- --------------- 368.6/626.3 kB 279.8 kB/s eta 0:00:01\n",
      "   ---------------------- --------------- 368.6/626.3 kB 279.8 kB/s eta 0:00:01\n",
      "   ---------------------- --------------- 368.6/626.3 kB 279.8 kB/s eta 0:00:01\n",
      "   ---------------------- --------------- 368.6/626.3 kB 279.8 kB/s eta 0:00:01\n",
      "   ---------------------- --------------- 368.6/626.3 kB 279.8 kB/s eta 0:00:01\n",
      "   ---------------------- --------------- 368.6/626.3 kB 279.8 kB/s eta 0:00:01\n",
      "   ----------------------------- -------- 491.5/626.3 kB 287.8 kB/s eta 0:00:01\n",
      "   ----------------------------- -------- 491.5/626.3 kB 287.8 kB/s eta 0:00:01\n",
      "   -------------------------------- ----- 532.5/626.3 kB 298.4 kB/s eta 0:00:01\n",
      "   ---------------------------------- --- 573.4/626.3 kB 310.6 kB/s eta 0:00:01\n",
      "   ---------------------------------- --- 573.4/626.3 kB 310.6 kB/s eta 0:00:01\n",
      "   ------------------------------------ - 604.2/626.3 kB 311.6 kB/s eta 0:00:01\n",
      "   -------------------------------------  624.6/626.3 kB 314.6 kB/s eta 0:00:01\n",
      "   -------------------------------------- 626.3/626.3 kB 315.5 kB/s eta 0:00:00\n",
      "Installing collected packages: textblob\n",
      "Successfully installed textblob-0.18.0.post0\n"
     ]
    }
   ],
   "source": [
    "pip install textblob"
   ]
  },
  {
   "cell_type": "code",
   "execution_count": 11,
   "id": "f272ed06-282a-46dd-b908-c904fc8c45ca",
   "metadata": {},
   "outputs": [],
   "source": [
    "from textblob import TextBlob"
   ]
  },
  {
   "cell_type": "code",
   "execution_count": 12,
   "id": "7fc3b373-23a8-43b8-9cf9-8c4662357496",
   "metadata": {},
   "outputs": [],
   "source": [
    "import numpy as np\n",
    "import pandas as pd\n",
    "from os import path"
   ]
  },
  {
   "cell_type": "code",
   "execution_count": 14,
   "id": "05c3ab96-0fd1-4a85-bc78-1dd51890b9ed",
   "metadata": {},
   "outputs": [],
   "source": [
    "df = pd.read_csv(\"C:/Users/adogh/Documents/Learning/Forage/British Airways Data Science/Task 1/BA_reviews-CLEANED.csv\", index_col=0)"
   ]
  },
  {
   "cell_type": "code",
   "execution_count": 15,
   "id": "908b06f2-c6ae-4872-bfb2-419c6f97039e",
   "metadata": {},
   "outputs": [
    {
     "data": {
      "text/html": [
       "<div>\n",
       "<style scoped>\n",
       "    .dataframe tbody tr th:only-of-type {\n",
       "        vertical-align: middle;\n",
       "    }\n",
       "\n",
       "    .dataframe tbody tr th {\n",
       "        vertical-align: top;\n",
       "    }\n",
       "\n",
       "    .dataframe thead th {\n",
       "        text-align: right;\n",
       "    }\n",
       "</style>\n",
       "<table border=\"1\" class=\"dataframe\">\n",
       "  <thead>\n",
       "    <tr style=\"text-align: right;\">\n",
       "      <th></th>\n",
       "      <th>reviews</th>\n",
       "      <th>Unnamed: 2</th>\n",
       "    </tr>\n",
       "  </thead>\n",
       "  <tbody>\n",
       "    <tr>\n",
       "      <th>0</th>\n",
       "      <td>Not Verified</td>\n",
       "      <td>I reported my damagedruined suitcase 5 weeks a...</td>\n",
       "    </tr>\n",
       "    <tr>\n",
       "      <th>1</th>\n",
       "      <td>Not Verified</td>\n",
       "      <td>On March 1st I flew from Berlin to So Paulo wi...</td>\n",
       "    </tr>\n",
       "    <tr>\n",
       "      <th>2</th>\n",
       "      <td>Not Verified</td>\n",
       "      <td>The WORST customer experience British Airways ...</td>\n",
       "    </tr>\n",
       "    <tr>\n",
       "      <th>3</th>\n",
       "      <td>Not Verified</td>\n",
       "      <td>Had to cancel my flight months in advance due ...</td>\n",
       "    </tr>\n",
       "    <tr>\n",
       "      <th>4</th>\n",
       "      <td>Trip Verified</td>\n",
       "      <td>Flight cancelled with no reason given less tha...</td>\n",
       "    </tr>\n",
       "  </tbody>\n",
       "</table>\n",
       "</div>"
      ],
      "text/plain": [
       "         reviews                                         Unnamed: 2\n",
       "0   Not Verified  I reported my damagedruined suitcase 5 weeks a...\n",
       "1   Not Verified  On March 1st I flew from Berlin to So Paulo wi...\n",
       "2   Not Verified  The WORST customer experience British Airways ...\n",
       "3   Not Verified  Had to cancel my flight months in advance due ...\n",
       "4  Trip Verified  Flight cancelled with no reason given less tha..."
      ]
     },
     "execution_count": 15,
     "metadata": {},
     "output_type": "execute_result"
    }
   ],
   "source": [
    "df.head()"
   ]
  },
  {
   "cell_type": "code",
   "execution_count": 16,
   "id": "77ab3fcb-d0f6-4076-b4d8-4d084e540420",
   "metadata": {},
   "outputs": [],
   "source": [
    "df['Unnamed: 2'] = df['Unnamed: 2'].str.strip()"
   ]
  },
  {
   "cell_type": "code",
   "execution_count": 17,
   "id": "b8ba7112-e5d2-4de7-b345-b26ed6d779bb",
   "metadata": {},
   "outputs": [
    {
     "data": {
      "text/html": [
       "<div>\n",
       "<style scoped>\n",
       "    .dataframe tbody tr th:only-of-type {\n",
       "        vertical-align: middle;\n",
       "    }\n",
       "\n",
       "    .dataframe tbody tr th {\n",
       "        vertical-align: top;\n",
       "    }\n",
       "\n",
       "    .dataframe thead th {\n",
       "        text-align: right;\n",
       "    }\n",
       "</style>\n",
       "<table border=\"1\" class=\"dataframe\">\n",
       "  <thead>\n",
       "    <tr style=\"text-align: right;\">\n",
       "      <th></th>\n",
       "      <th>reviews</th>\n",
       "      <th>Unnamed: 2</th>\n",
       "    </tr>\n",
       "  </thead>\n",
       "  <tbody>\n",
       "    <tr>\n",
       "      <th>0</th>\n",
       "      <td>Not Verified</td>\n",
       "      <td>I reported my damagedruined suitcase 5 weeks a...</td>\n",
       "    </tr>\n",
       "    <tr>\n",
       "      <th>1</th>\n",
       "      <td>Not Verified</td>\n",
       "      <td>On March 1st I flew from Berlin to So Paulo wi...</td>\n",
       "    </tr>\n",
       "    <tr>\n",
       "      <th>2</th>\n",
       "      <td>Not Verified</td>\n",
       "      <td>The WORST customer experience British Airways ...</td>\n",
       "    </tr>\n",
       "    <tr>\n",
       "      <th>3</th>\n",
       "      <td>Not Verified</td>\n",
       "      <td>Had to cancel my flight months in advance due ...</td>\n",
       "    </tr>\n",
       "    <tr>\n",
       "      <th>4</th>\n",
       "      <td>Trip Verified</td>\n",
       "      <td>Flight cancelled with no reason given less tha...</td>\n",
       "    </tr>\n",
       "  </tbody>\n",
       "</table>\n",
       "</div>"
      ],
      "text/plain": [
       "         reviews                                         Unnamed: 2\n",
       "0   Not Verified  I reported my damagedruined suitcase 5 weeks a...\n",
       "1   Not Verified  On March 1st I flew from Berlin to So Paulo wi...\n",
       "2   Not Verified  The WORST customer experience British Airways ...\n",
       "3   Not Verified  Had to cancel my flight months in advance due ...\n",
       "4  Trip Verified  Flight cancelled with no reason given less tha..."
      ]
     },
     "execution_count": 17,
     "metadata": {},
     "output_type": "execute_result"
    }
   ],
   "source": [
    "df.head()"
   ]
  },
  {
   "cell_type": "code",
   "execution_count": 18,
   "id": "ffaaa9bd-8a96-41be-8904-ee584041f356",
   "metadata": {},
   "outputs": [],
   "source": [
    "df['Unnamed: 2'] = df['Unnamed: 2'].astype(str)"
   ]
  },
  {
   "cell_type": "code",
   "execution_count": 19,
   "id": "1cf48683-32b7-4387-95ac-6d9cbaf34a85",
   "metadata": {},
   "outputs": [],
   "source": [
    "def get_sentiment(text):\n",
    "    blob = TextBlob(text)\n",
    "    return blob.sentiment.polarity"
   ]
  },
  {
   "cell_type": "code",
   "execution_count": 21,
   "id": "862104cf-302e-4820-bbb7-56c1818b4b60",
   "metadata": {},
   "outputs": [
    {
     "name": "stdout",
     "output_type": "stream",
     "text": [
      "         reviews                                         Unnamed: 2  sentiment\n",
      "0   Not Verified  I reported my damagedruined suitcase 5 weeks a...  -0.342857\n",
      "1   Not Verified  On March 1st I flew from Berlin to So Paulo wi...   0.028333\n",
      "2   Not Verified  The WORST customer experience British Airways ...   0.009028\n",
      "3   Not Verified  Had to cancel my flight months in advance due ...   0.112500\n",
      "4  Trip Verified  Flight cancelled with no reason given less tha...  -0.424074\n"
     ]
    }
   ],
   "source": [
    "df['sentiment'] = df['Unnamed: 2'].apply(get_sentiment)\n",
    "\n",
    "print(df.head())"
   ]
  },
  {
   "cell_type": "code",
   "execution_count": 22,
   "id": "8d143b8a-48b8-47e2-be5c-4bf32cb60f61",
   "metadata": {},
   "outputs": [
    {
     "name": "stdout",
     "output_type": "stream",
     "text": [
      "Sentiment analysis results exported successfully!\n"
     ]
    }
   ],
   "source": [
    "df.to_csv('sentiment_analysis_results.csv', index=False)\n",
    "\n",
    "print(\"Sentiment analysis results exported successfully!\")"
   ]
  },
  {
   "cell_type": "code",
   "execution_count": null,
   "id": "4f9cffb9-f5cc-45c4-a711-d96b77ee7f61",
   "metadata": {},
   "outputs": [],
   "source": []
  },
  {
   "cell_type": "code",
   "execution_count": null,
   "id": "06a10759-de95-4a87-bc4b-1b6fa764a321",
   "metadata": {},
   "outputs": [],
   "source": []
  },
  {
   "cell_type": "code",
   "execution_count": null,
   "id": "2a1d0dcb-5784-45de-9efa-4d83df2b2fbe",
   "metadata": {},
   "outputs": [],
   "source": []
  },
  {
   "cell_type": "code",
   "execution_count": null,
   "id": "1c775213-6d7a-47b6-b25b-bad180279527",
   "metadata": {},
   "outputs": [],
   "source": []
  },
  {
   "cell_type": "code",
   "execution_count": null,
   "id": "9155586c-c626-482d-b479-34dbb40ec742",
   "metadata": {},
   "outputs": [],
   "source": []
  },
  {
   "cell_type": "code",
   "execution_count": null,
   "id": "2e40b3e0-0b3e-4322-85fc-b2c5be90b17f",
   "metadata": {},
   "outputs": [],
   "source": []
  },
  {
   "cell_type": "code",
   "execution_count": null,
   "id": "98d8a074-d55c-402c-80ef-da25f074e4f5",
   "metadata": {},
   "outputs": [],
   "source": []
  },
  {
   "cell_type": "code",
   "execution_count": null,
   "id": "711329db-6473-47ef-8de0-85926da51a0c",
   "metadata": {},
   "outputs": [],
   "source": []
  },
  {
   "cell_type": "code",
   "execution_count": null,
   "id": "38831aaf-6fd7-42b9-b041-f8aef442c845",
   "metadata": {},
   "outputs": [],
   "source": []
  },
  {
   "cell_type": "code",
   "execution_count": null,
   "id": "5d96fb92-eff4-43c1-a28c-bcf63b0b5c96",
   "metadata": {},
   "outputs": [],
   "source": []
  },
  {
   "cell_type": "code",
   "execution_count": null,
   "id": "9dd00bcc-000c-4d80-b138-9ec0c5c9c992",
   "metadata": {},
   "outputs": [],
   "source": []
  },
  {
   "cell_type": "code",
   "execution_count": null,
   "id": "831940ec-7f1c-4d8b-b8ba-dedf3fdc740a",
   "metadata": {},
   "outputs": [],
   "source": []
  },
  {
   "cell_type": "code",
   "execution_count": null,
   "id": "c84e4b2d-2359-42b4-9821-0a1a4c87d43f",
   "metadata": {},
   "outputs": [],
   "source": []
  },
  {
   "cell_type": "code",
   "execution_count": null,
   "id": "fe51ed2b-acb5-4984-9352-439342a7f6ed",
   "metadata": {},
   "outputs": [],
   "source": []
  },
  {
   "cell_type": "code",
   "execution_count": null,
   "id": "7af378e8-603a-426c-91b3-a079767efc96",
   "metadata": {},
   "outputs": [],
   "source": []
  },
  {
   "cell_type": "code",
   "execution_count": null,
   "id": "2f0ae231-f8a0-48dc-a89e-501d1c011f52",
   "metadata": {},
   "outputs": [],
   "source": []
  },
  {
   "cell_type": "code",
   "execution_count": null,
   "id": "3f69562e-6cac-431f-a63d-ac3dc4adc471",
   "metadata": {},
   "outputs": [],
   "source": []
  },
  {
   "cell_type": "code",
   "execution_count": null,
   "id": "9f91a559-564d-448f-a7df-c9276d6f7958",
   "metadata": {},
   "outputs": [],
   "source": []
  },
  {
   "cell_type": "code",
   "execution_count": null,
   "id": "7c609845-25cf-4480-ad07-1b00c4d0d084",
   "metadata": {},
   "outputs": [],
   "source": []
  },
  {
   "cell_type": "code",
   "execution_count": null,
   "id": "c35f9909-824f-41dc-964c-545a299d32c5",
   "metadata": {},
   "outputs": [],
   "source": []
  },
  {
   "cell_type": "code",
   "execution_count": null,
   "id": "ff4b8fdf-d91e-4a54-a04b-0fbbd2b3b025",
   "metadata": {},
   "outputs": [],
   "source": []
  }
 ],
 "metadata": {
  "kernelspec": {
   "display_name": "Python 3 (ipykernel)",
   "language": "python",
   "name": "python3"
  },
  "language_info": {
   "codemirror_mode": {
    "name": "ipython",
    "version": 3
   },
   "file_extension": ".py",
   "mimetype": "text/x-python",
   "name": "python",
   "nbconvert_exporter": "python",
   "pygments_lexer": "ipython3",
   "version": "3.11.7"
  }
 },
 "nbformat": 4,
 "nbformat_minor": 5
}
